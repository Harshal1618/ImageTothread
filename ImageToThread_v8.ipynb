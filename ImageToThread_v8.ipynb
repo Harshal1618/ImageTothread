{
  "nbformat": 4,
  "nbformat_minor": 0,
  "metadata": {
    "colab": {
      "name": "ImageToThread_v3.ipynb",
      "version": "0.3.2",
      "provenance": [],
      "include_colab_link": true
    },
    "kernelspec": {
      "display_name": "Python 3",
      "language": "python",
      "name": "python3"
    }
  },
  "cells": [
    {
      "cell_type": "markdown",
      "metadata": {
        "id": "view-in-github",
        "colab_type": "text"
      },
      "source": [
        "<a href=\"https://colab.research.google.com/github/Harshal1618/ImageTothread/blob/master/ImageToThread_v8.ipynb\" target=\"_parent\"><img src=\"https://colab.research.google.com/assets/colab-badge.svg\" alt=\"Open In Colab\"/></a>"
      ]
    },
    {
      "metadata": {
        "id": "2HVuWM055Wtm",
        "colab_type": "code",
        "colab": {}
      },
      "cell_type": "code",
      "source": [
        "import numpy as np"
      ],
      "execution_count": 0,
      "outputs": []
    },
    {
      "metadata": {
        "id": "I7sfXr675Wtr",
        "colab_type": "code",
        "colab": {}
      },
      "cell_type": "code",
      "source": [
        "def find_grids(line_points):\n",
        "\n",
        "  x1,y1 = line_points[0][0], line_points[0][1]\n",
        "  x2,y2 = line_points[1][0], line_points[1][1]\n",
        "  \n",
        "  m = (y1-y2) / (x1-x2)\n",
        "  b = y1 - m*x1\n",
        "\n",
        "  start_x = x1 + 1 if x2 > x1 else x1 -1 \n",
        "  b_x_dir_pos = x2 > x1\n",
        "  b_y_dir_pos = y2 > y1\n",
        "\n",
        "  arr_x_steps = np.linspace(start_x,x2,np.abs(x1-x2), dtype = int)\n",
        "\n",
        "  current_x =  x1 if b_x_dir_pos else x1 -1\n",
        "  current_y =  y1 if b_y_dir_pos else y1 -1\n",
        "  l = []\n",
        "\n",
        "  for i in arr_x_steps:\n",
        "      y = np.round(m*i+b,2)\n",
        "\n",
        "      arr_y_steps = np.linspace(current_y, \n",
        "                                np.floor(y) if y%1 != 0.0 else y -1, \n",
        "                                np.abs(np.floor(y) - current_y)+1 if y%1 != 0.0 else np.abs(np.floor(y) - current_y), \n",
        "                                dtype = np.int)\n",
        "      current_y = int(np.floor(y)) if y%1 != 0.0 else int(y)\n",
        "\n",
        "      print('x = {} y = {} y_steps = {}'.format(i, y , arr_y_steps))\n",
        "\n",
        "      for j in arr_y_steps:\n",
        "          l.append((i -1 if b_x_dir_pos else i,j))\n",
        "\n",
        "  return l"
      ],
      "execution_count": 0,
      "outputs": []
    },
    {
      "metadata": {
        "id": "Ea28_8WC5Wtv",
        "colab_type": "code",
        "outputId": "4a825a06-39a9-47e8-d954-d90d4ef420da",
        "colab": {
          "base_uri": "https://localhost:8080/",
          "height": 88
        }
      },
      "cell_type": "code",
      "source": [
        "find_grids(((0, 10), (1, 0)))"
      ],
      "execution_count": 0,
      "outputs": [
        {
          "output_type": "stream",
          "text": [
            "x = 1 y = 0.0 y_steps = [ 9  7  6  5  4  2  1  0 -1]\n"
          ],
          "name": "stdout"
        },
        {
          "output_type": "stream",
          "text": [
            "/usr/local/lib/python3.6/dist-packages/ipykernel_launcher.py:25: DeprecationWarning: object of type <class 'numpy.float64'> cannot be safely interpreted as an integer.\n"
          ],
          "name": "stderr"
        },
        {
          "output_type": "execute_result",
          "data": {
            "text/plain": [
              "[(0, 9), (0, 7), (0, 6), (0, 5), (0, 4), (0, 2), (0, 1), (0, 0), (0, -1)]"
            ]
          },
          "metadata": {
            "tags": []
          },
          "execution_count": 33
        }
      ]
    },
    {
      "metadata": {
        "id": "3dIzAQHu5Wtz",
        "colab_type": "code",
        "outputId": "979d0cb5-919d-4b9a-a57e-66dad15592d4",
        "colab": {
          "base_uri": "https://localhost:8080/",
          "height": 139
        }
      },
      "cell_type": "code",
      "source": [
        "\n",
        "\n",
        "    "
      ],
      "execution_count": 0,
      "outputs": [
        {
          "output_type": "stream",
          "text": [
            "x = 3 y = 11.25 y_steps = [11]\n",
            "x = 2 y = 10.5 y_steps = [11 10]\n",
            "x = 1 y = 9.75 y_steps = [10  9]\n",
            "x = 0 y = 9.0 y_steps = []\n"
          ],
          "name": "stdout"
        },
        {
          "output_type": "stream",
          "text": [
            "/usr/local/lib/python3.6/dist-packages/ipykernel_launcher.py:11: DeprecationWarning: object of type <class 'numpy.float64'> cannot be safely interpreted as an integer.\n",
            "  # This is added back by InteractiveShellApp.init_path()\n"
          ],
          "name": "stderr"
        }
      ]
    },
    {
      "metadata": {
        "id": "ixMAgvZN5Wt2",
        "colab_type": "code",
        "outputId": "794ac33f-a00a-4780-9cea-8096e4606df8",
        "colab": {
          "base_uri": "https://localhost:8080/",
          "height": 34
        }
      },
      "cell_type": "code",
      "source": [
        "l"
      ],
      "execution_count": 0,
      "outputs": [
        {
          "output_type": "execute_result",
          "data": {
            "text/plain": [
              "[(3, 11), (2, 11), (2, 10), (1, 10), (1, 9)]"
            ]
          },
          "metadata": {
            "tags": []
          },
          "execution_count": 24
        }
      ]
    },
    {
      "metadata": {
        "id": "eE8w9zGt5Wt7",
        "colab_type": "code",
        "colab": {}
      },
      "cell_type": "code",
      "source": [
        "L,H = 13,13"
      ],
      "execution_count": 0,
      "outputs": []
    },
    {
      "metadata": {
        "id": "rJwVG7IzOsQx",
        "colab_type": "code",
        "colab": {}
      },
      "cell_type": "code",
      "source": [
        "import itertools as it"
      ],
      "execution_count": 0,
      "outputs": []
    },
    {
      "metadata": {
        "id": "lSzb2ljoOuef",
        "colab_type": "code",
        "colab": {}
      },
      "cell_type": "code",
      "source": [
        "\n",
        "h1  = [(0,i) for i in range(0,H)]\n",
        "l1  = [(i,0) for i in range(0,L)]\n",
        "h2  = [(H-1,i) for i in range(0,H)]\n",
        "l2  = [(i,L-1) for i in range(0,L)]\n",
        "\n",
        "l_combi = [ i for i in it.product(h1,l1+h2+l2) ]\n",
        "l_combi = l_combi + [ i for i in it.product(l1,h2+l2) ]\n",
        "l_combi = l_combi + [ i for i in it.product(h2,l2) ]\n",
        "\n",
        "l_combi = list((set(l_combi)))"
      ],
      "execution_count": 0,
      "outputs": []
    },
    {
      "metadata": {
        "id": "_xYehGhXSD6b",
        "colab_type": "code",
        "colab": {}
      },
      "cell_type": "code",
      "source": [
        "l_combi = [e for e in l_combi if e[0] != e[1]]"
      ],
      "execution_count": 0,
      "outputs": []
    },
    {
      "metadata": {
        "id": "mX5Q2XlxGAQD",
        "colab_type": "code",
        "outputId": "1c0397ab-bed9-4c6a-9313-fbccd4b34a1c",
        "colab": {
          "base_uri": "https://localhost:8080/",
          "height": 187
        }
      },
      "cell_type": "code",
      "source": [
        "l_combi[:10]"
      ],
      "execution_count": 0,
      "outputs": [
        {
          "output_type": "execute_result",
          "data": {
            "text/plain": [
              "[((0, 10), (1, 0)),\n",
              " ((12, 5), (5, 12)),\n",
              " ((8, 0), (12, 9)),\n",
              " ((12, 7), (4, 12)),\n",
              " ((0, 7), (0, 12)),\n",
              " ((0, 0), (4, 12)),\n",
              " ((12, 10), (0, 12)),\n",
              " ((6, 0), (12, 8)),\n",
              " ((0, 10), (12, 4)),\n",
              " ((12, 10), (5, 12))]"
            ]
          },
          "metadata": {
            "tags": []
          },
          "execution_count": 10
        }
      ]
    },
    {
      "metadata": {
        "id": "sXzulBfKHG1J",
        "colab_type": "code",
        "colab": {}
      },
      "cell_type": "code",
      "source": [
        ""
      ],
      "execution_count": 0,
      "outputs": []
    },
    {
      "metadata": {
        "id": "doTJMuDRHtbG",
        "colab_type": "text"
      },
      "cell_type": "markdown",
      "source": [
        "Write a finction that gives length of intercept when m, b and grid squre is given"
      ]
    },
    {
      "metadata": {
        "id": "KWDobDxDH5AF",
        "colab_type": "code",
        "outputId": "c037767d-3529-423a-9f4a-0182c35fd471",
        "colab": {
          "base_uri": "https://localhost:8080/",
          "height": 34
        }
      },
      "cell_type": "code",
      "source": [
        "print(\"m={} b={}\".format(m,b))"
      ],
      "execution_count": 0,
      "outputs": [
        {
          "output_type": "stream",
          "text": [
            "m=0.75 b=9.0\n"
          ],
          "name": "stdout"
        }
      ]
    },
    {
      "metadata": {
        "id": "q4GFFukUIAd7",
        "colab_type": "code",
        "colab": {}
      },
      "cell_type": "code",
      "source": [
        "grid_square = (2,10)"
      ],
      "execution_count": 0,
      "outputs": []
    },
    {
      "metadata": {
        "id": "c0-HBboQIWMN",
        "colab_type": "code",
        "colab": {}
      },
      "cell_type": "code",
      "source": [
        "def calc_dist(m,b,grid_square):\n",
        "  l_points = []\n",
        "\n",
        "  x0 = grid_square[0]\n",
        "  y0 = grid_square[1]\n",
        "\n",
        "  y_at_x0 = m* x0 +b\n",
        "  if y_at_x0 >= y0 and y_at_x0 <= y0 + 1:\n",
        "    l_points.append((x0, y_at_x0))\n",
        "\n",
        "  y_at_x1 = m*(x0 + 1) +b\n",
        "  if y_at_x1 >= y0 and y_at_x1 <= y0 + 1:\n",
        "    l_points.append((x0+1, y_at_x1))\n",
        "\n",
        "  x_at_y0 = (y0 - b) / m\n",
        "  if x_at_y0 >= x0 and x_at_y0 <= x0 + 1:\n",
        "    l_points.append((x_at_y0,y0))\n",
        "\n",
        "  x_at_y1 = ((y0 + 1) - b) / m\n",
        "  if x_at_y1 >= x0 and x_at_y1 <= x0 + 1:\n",
        "    l_points.append((x_at_y1,y0 + 1))\n",
        "\n",
        "  #print(' y_at_x0={:0.2f} \\n y_at_x1={:0.2f} \\\n",
        "  #      \\n x_at_y0={:0.2f} \\n x_at_y1={:0.2f}'.format(y_at_x0,y_at_x1,\n",
        "  #                                                    x_at_y0,x_at_y1))\n",
        "\n",
        "  l_points = list(set(l_points))\n",
        "\n",
        "  dist = 0\n",
        "  if len(l_points) > 2 :\n",
        "    print ('ERROR: More than 2 intersection points computed in square grid {}'.format(grid_square))\n",
        "  elif len(l_points) == 2:\n",
        "    dist = np.sqrt((l_points[0][0] - l_points[1][0])** 2 + (l_points[0][1] - l_points[1][1])** 2)\n",
        "\n",
        "  #print('List of intersection:{} Distance:{}'.format(l_points,dist))\n",
        "  return dist"
      ],
      "execution_count": 0,
      "outputs": []
    },
    {
      "metadata": {
        "id": "tuIjm3asJit_",
        "colab_type": "code",
        "outputId": "1f7b6d27-13a4-4f4d-b6d2-8443d2e7e1df",
        "colab": {
          "base_uri": "https://localhost:8080/",
          "height": 34
        }
      },
      "cell_type": "code",
      "source": [
        "line_points= ((0, 0), (1, 12))\n",
        "\n",
        "x1,y1 = line_points[0][0], line_points[0][1]\n",
        "x2,y2 = line_points[1][0], line_points[1][1]\n",
        "  \n",
        "m = (y1-y2) / (x1-x2)\n",
        "b = y1 - m*x1\n",
        "\n",
        "calc_dist(m,b,(0,4))"
      ],
      "execution_count": 0,
      "outputs": [
        {
          "output_type": "execute_result",
          "data": {
            "text/plain": [
              "(1.0034662148993578, 2)"
            ]
          },
          "metadata": {
            "tags": []
          },
          "execution_count": 51
        }
      ]
    },
    {
      "metadata": {
        "id": "eRJ7QbEeJTsA",
        "colab_type": "code",
        "colab": {}
      },
      "cell_type": "code",
      "source": [
        "def find_grids(L, H, points):\n",
        "  x_min = min(points[0][0] , points[1][0])\n",
        "  x_max = max(points[0][0] , points[1][0])\n",
        "  y_min = min(points[0][1] , points[1][1])\n",
        "  y_max = max(points[0][1] , points[1][1])\n",
        "\n",
        "  l_squares = []\n",
        "\n",
        "\n",
        "  if points[0][0] == points[1][0] and x_min < L -1:\n",
        "    arr_squares = np.linspace(y_min,y_max -1,y_max- y_min, dtype = int)\n",
        "    l_squares = [(x_min,i) for i in arr_squares]\n",
        "\n",
        "  elif points[0][1] == points[1][1] and y_min < H - 1:\n",
        "    arr_squares = np.linspace(x_min,x_max -1,x_max- x_min, dtype = int)\n",
        "    l_squares = [(i,y_min) for i in arr_squares]\n",
        "\n",
        "  elif x_min >= 0 and y_min >= 0 and x_max < L and y_max < H:\n",
        "    arr_x = np.linspace (x_min, x_max -1, x_max - x_min, dtype = int)\n",
        "    arr_y = np.linspace (y_min, y_max -1, y_max - y_min, dtype = int)\n",
        "\n",
        "    l_squares = [(i,j) for i in arr_x for j in arr_y]\n",
        "\n",
        "\n",
        "  return l_squares"
      ],
      "execution_count": 0,
      "outputs": []
    },
    {
      "metadata": {
        "id": "RY4QqpkhO_Pf",
        "colab_type": "code",
        "colab": {
          "base_uri": "https://localhost:8080/",
          "height": 119
        },
        "outputId": "492ce8f5-c0ae-40b3-b1c7-175e76685a73"
      },
      "cell_type": "code",
      "source": [
        "L , H = 13, 13  # 12 pegs for height and length\n",
        "points = ((4,12),(0,9))\n",
        "\n",
        "l_squares = find_grids(L,H,points)\n",
        "\n",
        "\n",
        "x1,y1 = points[0][0], points[0][1]\n",
        "x2,y2 = points[1][0], points[1][1]\n",
        "  \n",
        "m = (y1-y2) / (x1-x2)  ## Add special case where x1-x2 = 0\n",
        "b = y1 - m*x1\n",
        "\n",
        "[ (i,calc_dist(m,b,i)) for i in l_squares if calc_dist(m,b,i) > 0]"
      ],
      "execution_count": 44,
      "outputs": [
        {
          "output_type": "execute_result",
          "data": {
            "text/plain": [
              "[((0, 9), 1.25),\n",
              " ((1, 9), 0.4166666666666666),\n",
              " ((1, 10), 0.8333333333333334),\n",
              " ((2, 10), 0.8333333333333331),\n",
              " ((2, 11), 0.4166666666666668),\n",
              " ((3, 11), 1.25)]"
            ]
          },
          "metadata": {
            "tags": []
          },
          "execution_count": 44
        }
      ]
    },
    {
      "metadata": {
        "id": "GL7DFXtBWqvP",
        "colab_type": "code",
        "colab": {}
      },
      "cell_type": "code",
      "source": [
        ""
      ],
      "execution_count": 0,
      "outputs": []
    }
  ]
}