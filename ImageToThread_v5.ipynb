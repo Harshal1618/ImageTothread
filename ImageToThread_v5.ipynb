{
  "nbformat": 4,
  "nbformat_minor": 0,
  "metadata": {
    "colab": {
      "name": "ImageToThread_v3.ipynb",
      "version": "0.3.2",
      "provenance": [],
      "include_colab_link": true
    },
    "kernelspec": {
      "display_name": "Python 3",
      "language": "python",
      "name": "python3"
    }
  },
  "cells": [
    {
      "cell_type": "markdown",
      "metadata": {
        "id": "view-in-github",
        "colab_type": "text"
      },
      "source": [
        "<a href=\"https://colab.research.google.com/github/Harshal1618/ImageTothread/blob/master/ImageToThread_v5.ipynb\" target=\"_parent\"><img src=\"https://colab.research.google.com/assets/colab-badge.svg\" alt=\"Open In Colab\"/></a>"
      ]
    },
    {
      "metadata": {
        "id": "2HVuWM055Wtm",
        "colab_type": "code",
        "colab": {}
      },
      "cell_type": "code",
      "source": [
        "import numpy as np"
      ],
      "execution_count": 0,
      "outputs": []
    },
    {
      "metadata": {
        "id": "I7sfXr675Wtr",
        "colab_type": "code",
        "colab": {}
      },
      "cell_type": "code",
      "source": [
        "x1,y1 = 0,1\n",
        "x2,y2 = 5, 2\n",
        "\n",
        "m = (y1-y2) / (x1-x2)\n",
        "b = y1 - m*x1\n",
        "\n",
        "start_x = x1 + 1 if x2 > x1 else x1 -1 \n",
        "b_x_dir_pos = x2 > x1\n",
        "b_y_dir_pos = y2 > y1"
      ],
      "execution_count": 0,
      "outputs": []
    },
    {
      "metadata": {
        "id": "Ea28_8WC5Wtv",
        "colab_type": "code",
        "outputId": "74ab4b86-8a45-4b4a-b396-1affba222422",
        "colab": {
          "base_uri": "https://localhost:8080/",
          "height": 34
        }
      },
      "cell_type": "code",
      "source": [
        "arr_x_steps = np.linspace(start_x,x2,np.abs(x1-x2), dtype = int)\n",
        "arr_x_steps"
      ],
      "execution_count": 0,
      "outputs": [
        {
          "output_type": "execute_result",
          "data": {
            "text/plain": [
              "array([1, 2, 3, 4, 5])"
            ]
          },
          "metadata": {
            "tags": []
          },
          "execution_count": 66
        }
      ]
    },
    {
      "metadata": {
        "id": "3dIzAQHu5Wtz",
        "colab_type": "code",
        "outputId": "f551f308-ad08-484d-8467-fff3802dd4d4",
        "colab": {
          "base_uri": "https://localhost:8080/",
          "height": 156
        }
      },
      "cell_type": "code",
      "source": [
        "current_x =  x1 if b_x_dir_pos else x1 -1\n",
        "current_y =  y1 if b_y_dir_pos else y1 -1\n",
        "l = []\n",
        "\n",
        "for i in arr_x_steps:\n",
        "    y = np.round(m*i+b,2)\n",
        "    \n",
        "    arr_y_steps = np.linspace(current_y, \n",
        "                              np.floor(y) if y%1 != 0.0 else y -1, \n",
        "                              np.abs(np.floor(y) - current_y)+1 if y%1 != 0.0 else np.abs(np.floor(y) - current_y), \n",
        "                              dtype = np.int)\n",
        "    current_y = int(np.floor(y)) if y%1 != 0.0 else int(y)\n",
        "    \n",
        "    print('x = {} y = {} y_steps = {}'.format(i, y , arr_y_steps))\n",
        "    \n",
        "    for j in arr_y_steps:\n",
        "        l.append((i -1 if b_x_dir_pos else i,j))\n",
        "    \n",
        "\n",
        "    "
      ],
      "execution_count": 0,
      "outputs": [
        {
          "output_type": "stream",
          "text": [
            "x = 1 y = 1.2 y_steps = [1]\n",
            "x = 2 y = 1.4 y_steps = [1]\n",
            "x = 3 y = 1.6 y_steps = [1]\n",
            "x = 4 y = 1.8 y_steps = [1]\n",
            "x = 5 y = 2.0 y_steps = [1]\n"
          ],
          "name": "stdout"
        },
        {
          "output_type": "stream",
          "text": [
            "/usr/local/lib/python3.6/dist-packages/ipykernel_launcher.py:11: DeprecationWarning: object of type <class 'numpy.float64'> cannot be safely interpreted as an integer.\n",
            "  # This is added back by InteractiveShellApp.init_path()\n"
          ],
          "name": "stderr"
        }
      ]
    },
    {
      "metadata": {
        "id": "ixMAgvZN5Wt2",
        "colab_type": "code",
        "outputId": "7e7ba80a-5e7e-4fd0-9d42-e63bf03d7b25",
        "colab": {
          "base_uri": "https://localhost:8080/",
          "height": 34
        }
      },
      "cell_type": "code",
      "source": [
        "l"
      ],
      "execution_count": 0,
      "outputs": [
        {
          "output_type": "execute_result",
          "data": {
            "text/plain": [
              "[(0, 1), (1, 1), (2, 1), (3, 1), (4, 1)]"
            ]
          },
          "metadata": {
            "tags": []
          },
          "execution_count": 68
        }
      ]
    },
    {
      "metadata": {
        "id": "eE8w9zGt5Wt7",
        "colab_type": "code",
        "colab": {}
      },
      "cell_type": "code",
      "source": [
        "L,H = 100,100"
      ],
      "execution_count": 0,
      "outputs": []
    },
    {
      "metadata": {
        "id": "rJwVG7IzOsQx",
        "colab_type": "code",
        "colab": {}
      },
      "cell_type": "code",
      "source": [
        "import itertools as it"
      ],
      "execution_count": 0,
      "outputs": []
    },
    {
      "metadata": {
        "id": "lSzb2ljoOuef",
        "colab_type": "code",
        "outputId": "a1dbeeaa-0514-43db-8935-0a9c068225fb",
        "colab": {
          "base_uri": "https://localhost:8080/",
          "height": 34
        }
      },
      "cell_type": "code",
      "source": [
        "\n",
        "h1  = [(0,i) for i in range(1,H)]\n",
        "l1  = [(i,0) for i in range(1,L)]\n",
        "h2  = [(H-1,i) for i in range(1,H)]\n",
        "l2  = [(i,L-1) for i in range(1,L)]\n",
        "\n",
        "l_combi = [ i for i in it.product(h1,l1+h2+l2) ]\n",
        "l_combi = l_combi + [ i for i in it.product(l1,h2+l2) ]\n",
        "l_combi = l_combi + [ i for i in it.product(h2,l2) ]\n",
        "\n",
        "len(set(l_combi))"
      ],
      "execution_count": 0,
      "outputs": [
        {
          "output_type": "execute_result",
          "data": {
            "text/plain": [
              "58608"
            ]
          },
          "metadata": {
            "tags": []
          },
          "execution_count": 74
        }
      ]
    },
    {
      "metadata": {
        "id": "0r_oGBUVPDR2",
        "colab_type": "code",
        "outputId": "2c854fd5-aa03-40c0-d470-d220ab63e008",
        "colab": {
          "base_uri": "https://localhost:8080/",
          "height": 85
        }
      },
      "cell_type": "code",
      "source": [
        "for i in it.product(l1,h1):\n",
        "  print(i)"
      ],
      "execution_count": 0,
      "outputs": [
        {
          "output_type": "stream",
          "text": [
            "((1, 0), (0, 1))\n",
            "((1, 0), (0, 2))\n",
            "((2, 0), (0, 1))\n",
            "((2, 0), (0, 2))\n"
          ],
          "name": "stdout"
        }
      ]
    },
    {
      "metadata": {
        "id": "1pUOuJJFPT-1",
        "colab_type": "code",
        "outputId": "7dffa466-873a-49be-8e30-60e112ce5a0e",
        "colab": {
          "base_uri": "https://localhost:8080/",
          "height": 34
        }
      },
      "cell_type": "code",
      "source": [
        "l1 + h2 + l2"
      ],
      "execution_count": 0,
      "outputs": [
        {
          "output_type": "execute_result",
          "data": {
            "text/plain": [
              "[(1, 0), (2, 0), (2, 1), (2, 2), (1, 2), (2, 2)]"
            ]
          },
          "metadata": {
            "tags": []
          },
          "execution_count": 56
        }
      ]
    },
    {
      "metadata": {
        "id": "uAJ2aeHmR80u",
        "colab_type": "code",
        "outputId": "9c1ee376-5f9a-41ff-d95a-7c1bdad1e82f",
        "colab": {
          "base_uri": "https://localhost:8080/",
          "height": 357
        }
      },
      "cell_type": "code",
      "source": [
        "set(l_combi)"
      ],
      "execution_count": 0,
      "outputs": [
        {
          "output_type": "execute_result",
          "data": {
            "text/plain": [
              "{((0, 1), (1, 0)),\n",
              " ((0, 1), (1, 2)),\n",
              " ((0, 1), (2, 0)),\n",
              " ((0, 1), (2, 1)),\n",
              " ((0, 1), (2, 2)),\n",
              " ((0, 2), (1, 0)),\n",
              " ((0, 2), (1, 2)),\n",
              " ((0, 2), (2, 0)),\n",
              " ((0, 2), (2, 1)),\n",
              " ((0, 2), (2, 2)),\n",
              " ((1, 0), (1, 2)),\n",
              " ((1, 0), (2, 1)),\n",
              " ((1, 0), (2, 2)),\n",
              " ((2, 0), (1, 2)),\n",
              " ((2, 0), (2, 1)),\n",
              " ((2, 0), (2, 2)),\n",
              " ((2, 1), (1, 2)),\n",
              " ((2, 1), (2, 2)),\n",
              " ((2, 2), (1, 2)),\n",
              " ((2, 2), (2, 2))}"
            ]
          },
          "metadata": {
            "tags": []
          },
          "execution_count": 63
        }
      ]
    },
    {
      "metadata": {
        "id": "_xYehGhXSD6b",
        "colab_type": "code",
        "colab": {}
      },
      "cell_type": "code",
      "source": [
        ""
      ],
      "execution_count": 0,
      "outputs": []
    }
  ]
}