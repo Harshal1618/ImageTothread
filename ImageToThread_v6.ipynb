{
  "nbformat": 4,
  "nbformat_minor": 0,
  "metadata": {
    "colab": {
      "name": "ImageToThread_v3.ipynb",
      "version": "0.3.2",
      "provenance": [],
      "include_colab_link": true
    },
    "kernelspec": {
      "display_name": "Python 3",
      "language": "python",
      "name": "python3"
    }
  },
  "cells": [
    {
      "cell_type": "markdown",
      "metadata": {
        "id": "view-in-github",
        "colab_type": "text"
      },
      "source": [
        "<a href=\"https://colab.research.google.com/github/Harshal1618/ImageTothread/blob/master/ImageToThread_v6.ipynb\" target=\"_parent\"><img src=\"https://colab.research.google.com/assets/colab-badge.svg\" alt=\"Open In Colab\"/></a>"
      ]
    },
    {
      "metadata": {
        "id": "2HVuWM055Wtm",
        "colab_type": "code",
        "colab": {}
      },
      "cell_type": "code",
      "source": [
        "import numpy as np"
      ],
      "execution_count": 0,
      "outputs": []
    },
    {
      "metadata": {
        "id": "I7sfXr675Wtr",
        "colab_type": "code",
        "colab": {}
      },
      "cell_type": "code",
      "source": [
        "x1,y1 = 4,12\n",
        "x2,y2 = 0,9\n",
        "\n",
        "m = (y1-y2) / (x1-x2)\n",
        "b = y1 - m*x1\n",
        "\n",
        "start_x = x1 + 1 if x2 > x1 else x1 -1 \n",
        "b_x_dir_pos = x2 > x1\n",
        "b_y_dir_pos = y2 > y1"
      ],
      "execution_count": 0,
      "outputs": []
    },
    {
      "metadata": {
        "id": "Ea28_8WC5Wtv",
        "colab_type": "code",
        "outputId": "08843373-a270-4d32-fb98-d5112c2d8466",
        "colab": {
          "base_uri": "https://localhost:8080/",
          "height": 34
        }
      },
      "cell_type": "code",
      "source": [
        "arr_x_steps = np.linspace(start_x,x2,np.abs(x1-x2), dtype = int)\n",
        "arr_x_steps"
      ],
      "execution_count": 22,
      "outputs": [
        {
          "output_type": "execute_result",
          "data": {
            "text/plain": [
              "array([3, 2, 1, 0])"
            ]
          },
          "metadata": {
            "tags": []
          },
          "execution_count": 22
        }
      ]
    },
    {
      "metadata": {
        "id": "3dIzAQHu5Wtz",
        "colab_type": "code",
        "outputId": "acd22a39-c6bf-4851-d4d9-b9f2e215b3eb",
        "colab": {
          "base_uri": "https://localhost:8080/",
          "height": 139
        }
      },
      "cell_type": "code",
      "source": [
        "current_x =  x1 if b_x_dir_pos else x1 -1\n",
        "current_y =  y1 if b_y_dir_pos else y1 -1\n",
        "l = []\n",
        "\n",
        "for i in arr_x_steps:\n",
        "    y = np.round(m*i+b,2)\n",
        "    \n",
        "    arr_y_steps = np.linspace(current_y, \n",
        "                              np.floor(y) if y%1 != 0.0 else y -1, \n",
        "                              np.abs(np.floor(y) - current_y)+1 if y%1 != 0.0 else np.abs(np.floor(y) - current_y), \n",
        "                              dtype = np.int)\n",
        "    current_y = int(np.floor(y)) if y%1 != 0.0 else int(y)\n",
        "    \n",
        "    print('x = {} y = {} y_steps = {}'.format(i, y , arr_y_steps))\n",
        "    \n",
        "    for j in arr_y_steps:\n",
        "        l.append((i -1 if b_x_dir_pos else i,j))\n",
        "    \n",
        "\n",
        "    "
      ],
      "execution_count": 23,
      "outputs": [
        {
          "output_type": "stream",
          "text": [
            "x = 3 y = 11.25 y_steps = [11]\n",
            "x = 2 y = 10.5 y_steps = [11 10]\n",
            "x = 1 y = 9.75 y_steps = [10  9]\n",
            "x = 0 y = 9.0 y_steps = []\n"
          ],
          "name": "stdout"
        },
        {
          "output_type": "stream",
          "text": [
            "/usr/local/lib/python3.6/dist-packages/ipykernel_launcher.py:11: DeprecationWarning: object of type <class 'numpy.float64'> cannot be safely interpreted as an integer.\n",
            "  # This is added back by InteractiveShellApp.init_path()\n"
          ],
          "name": "stderr"
        }
      ]
    },
    {
      "metadata": {
        "id": "ixMAgvZN5Wt2",
        "colab_type": "code",
        "outputId": "794ac33f-a00a-4780-9cea-8096e4606df8",
        "colab": {
          "base_uri": "https://localhost:8080/",
          "height": 34
        }
      },
      "cell_type": "code",
      "source": [
        "l"
      ],
      "execution_count": 24,
      "outputs": [
        {
          "output_type": "execute_result",
          "data": {
            "text/plain": [
              "[(3, 11), (2, 11), (2, 10), (1, 10), (1, 9)]"
            ]
          },
          "metadata": {
            "tags": []
          },
          "execution_count": 24
        }
      ]
    },
    {
      "metadata": {
        "id": "eE8w9zGt5Wt7",
        "colab_type": "code",
        "colab": {}
      },
      "cell_type": "code",
      "source": [
        "L,H = 13,13"
      ],
      "execution_count": 0,
      "outputs": []
    },
    {
      "metadata": {
        "id": "rJwVG7IzOsQx",
        "colab_type": "code",
        "colab": {}
      },
      "cell_type": "code",
      "source": [
        "import itertools as it"
      ],
      "execution_count": 0,
      "outputs": []
    },
    {
      "metadata": {
        "id": "lSzb2ljoOuef",
        "colab_type": "code",
        "colab": {}
      },
      "cell_type": "code",
      "source": [
        "\n",
        "h1  = [(0,i) for i in range(0,H)]\n",
        "l1  = [(i,0) for i in range(0,L)]\n",
        "h2  = [(H-1,i) for i in range(0,H)]\n",
        "l2  = [(i,L-1) for i in range(0,L)]\n",
        "\n",
        "l_combi = [ i for i in it.product(h1,l1+h2+l2) ]\n",
        "l_combi = l_combi + [ i for i in it.product(l1,h2+l2) ]\n",
        "l_combi = l_combi + [ i for i in it.product(h2,l2) ]\n",
        "\n",
        "l_combi = list((set(l_combi)))"
      ],
      "execution_count": 0,
      "outputs": []
    },
    {
      "metadata": {
        "id": "_xYehGhXSD6b",
        "colab_type": "code",
        "colab": {}
      },
      "cell_type": "code",
      "source": [
        "l_combi = [e for e in l_combi if e[0] != e[1]]"
      ],
      "execution_count": 0,
      "outputs": []
    },
    {
      "metadata": {
        "id": "mX5Q2XlxGAQD",
        "colab_type": "code",
        "colab": {
          "base_uri": "https://localhost:8080/",
          "height": 187
        },
        "outputId": "2d35ea89-9d50-4c2e-8b1e-403c3cb6ab95"
      },
      "cell_type": "code",
      "source": [
        "l_combi[:10]"
      ],
      "execution_count": 20,
      "outputs": [
        {
          "output_type": "execute_result",
          "data": {
            "text/plain": [
              "[((0, 0), (0, 12)),\n",
              " ((0, 0), (1, 0)),\n",
              " ((0, 0), (1, 12)),\n",
              " ((0, 0), (2, 0)),\n",
              " ((0, 0), (2, 12)),\n",
              " ((0, 0), (3, 0)),\n",
              " ((0, 0), (3, 12)),\n",
              " ((0, 0), (4, 0)),\n",
              " ((0, 0), (4, 12)),\n",
              " ((0, 0), (5, 0))]"
            ]
          },
          "metadata": {
            "tags": []
          },
          "execution_count": 20
        }
      ]
    },
    {
      "metadata": {
        "id": "sXzulBfKHG1J",
        "colab_type": "code",
        "colab": {}
      },
      "cell_type": "code",
      "source": [
        ""
      ],
      "execution_count": 0,
      "outputs": []
    },
    {
      "metadata": {
        "id": "doTJMuDRHtbG",
        "colab_type": "text"
      },
      "cell_type": "markdown",
      "source": [
        "Write a finction that gives length of intercept when m, b and grid squre is given"
      ]
    },
    {
      "metadata": {
        "id": "KWDobDxDH5AF",
        "colab_type": "code",
        "colab": {
          "base_uri": "https://localhost:8080/",
          "height": 34
        },
        "outputId": "3c69f199-4384-43c7-cf1c-e2e3712ef108"
      },
      "cell_type": "code",
      "source": [
        "print(\"m={} b={}\".format(m,b))"
      ],
      "execution_count": 26,
      "outputs": [
        {
          "output_type": "stream",
          "text": [
            "m=0.75 b=9.0\n"
          ],
          "name": "stdout"
        }
      ]
    },
    {
      "metadata": {
        "id": "q4GFFukUIAd7",
        "colab_type": "code",
        "colab": {}
      },
      "cell_type": "code",
      "source": [
        "grid_square = (3,11)"
      ],
      "execution_count": 0,
      "outputs": []
    },
    {
      "metadata": {
        "id": "c0-HBboQIWMN",
        "colab_type": "code",
        "colab": {
          "base_uri": "https://localhost:8080/",
          "height": 85
        },
        "outputId": "8a7acfe5-ad35-4720-d0a7-01cc839665d9"
      },
      "cell_type": "code",
      "source": [
        "y_at_x0 = m* grid_square[0]      +b\n",
        "y_at_x1 = m*(grid_square[0] + 1) +b\n",
        "x_at_y0 = (grid_square[1] - b) / m\n",
        "x_at_y1 = ((grid_square[1] + 1) - b) / m\n",
        "\n",
        "print(' y_at_x0={:0.2f} \\n y_at_x1={:0.2f} \\\n",
        "      \\n x_at_y0={:0.2f} \\n x_at_y1={:0.2f}'.format(y_at_x0,y_at_x1,\n",
        "                                                    x_at_y0,x_at_y1))"
      ],
      "execution_count": 38,
      "outputs": [
        {
          "output_type": "stream",
          "text": [
            " y_at_x0=11.25 \n",
            " y_at_x1=12.00       \n",
            " x_at_y0=2.67 \n",
            " x_at_y1=4.00\n"
          ],
          "name": "stdout"
        }
      ]
    },
    {
      "metadata": {
        "id": "tuIjm3asJit_",
        "colab_type": "code",
        "colab": {}
      },
      "cell_type": "code",
      "source": [
        ""
      ],
      "execution_count": 0,
      "outputs": []
    }
  ]
}