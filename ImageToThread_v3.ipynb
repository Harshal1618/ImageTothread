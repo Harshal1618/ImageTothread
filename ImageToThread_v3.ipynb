{
 "cells": [
  {
   "cell_type": "code",
   "execution_count": 1,
   "metadata": {
    "collapsed": true
   },
   "outputs": [],
   "source": [
    "import numpy as np"
   ]
  },
  {
   "cell_type": "code",
   "execution_count": 51,
   "metadata": {},
   "outputs": [],
   "source": [
    "x1,y1 = 4,0\n",
    "x2,y2 = 0,3\n",
    "\n",
    "m = (y1-y2) / (x1-x2)\n",
    "b = y1 - m*x1\n",
    "\n",
    "start_x = x1 + 1 if x2 > x1 else x1 -1 \n",
    "b_x_dir_pos = x2 > x1\n",
    "b_y_dir_pos = y2 > y1"
   ]
  },
  {
   "cell_type": "code",
   "execution_count": 52,
   "metadata": {},
   "outputs": [
    {
     "data": {
      "text/plain": [
       "array([3, 2, 1, 0])"
      ]
     },
     "execution_count": 52,
     "metadata": {},
     "output_type": "execute_result"
    }
   ],
   "source": [
    "arr_x_steps = np.linspace(start_x,x2,np.abs(x1-x2), dtype = int)\n",
    "arr_x_steps"
   ]
  },
  {
   "cell_type": "code",
   "execution_count": 53,
   "metadata": {},
   "outputs": [
    {
     "name": "stdout",
     "output_type": "stream",
     "text": [
      "x = 3 y = 0.75 y_steps = [0]\n",
      "x = 2 y = 1.5 y_steps = [0 1]\n",
      "x = 1 y = 2.25 y_steps = [1 2]\n",
      "x = 0 y = 3.0 y_steps = [2 3]\n"
     ]
    },
    {
     "name": "stderr",
     "output_type": "stream",
     "text": [
      "C:\\Anaconda\\lib\\site-packages\\ipykernel_launcher.py:7: DeprecationWarning: object of type <class 'numpy.float64'> cannot be safely interpreted as an integer.\n",
      "  import sys\n"
     ]
    }
   ],
   "source": [
    "current_x =  x1 if x2 > x1 else x1 -1\n",
    "current_y =  y1\n",
    "l = []\n",
    "\n",
    "for i in arr_x_steps:\n",
    "    y = np.round(m*i+b,2)\n",
    "    \n",
    "    arr_y_steps = np.linspace(current_y, np.floor(y), np.abs(np.floor(y) - current_y)+1, dtype = np.int)\n",
    "    current_y = int(np.floor(y)) if y%1 != 0.0 else int(y)\n",
    "    \n",
    "    print('x = {} y = {} y_steps = {}'.format(i, y , arr_y_steps))\n",
    "    \n",
    "    for j in arr_y_steps:\n",
    "        l.append((i -1 if b_x_dir_pos else i,j))\n",
    "    \n",
    "\n",
    "    "
   ]
  },
  {
   "cell_type": "code",
   "execution_count": 54,
   "metadata": {},
   "outputs": [
    {
     "data": {
      "text/plain": [
       "[(3, 0), (2, 0), (2, 1), (1, 1), (1, 2), (0, 2), (0, 3)]"
      ]
     },
     "execution_count": 54,
     "metadata": {},
     "output_type": "execute_result"
    }
   ],
   "source": [
    "l"
   ]
  },
  {
   "cell_type": "code",
   "execution_count": null,
   "metadata": {
    "collapsed": true
   },
   "outputs": [],
   "source": []
  }
 ],
 "metadata": {
  "kernelspec": {
   "display_name": "Python 3",
   "language": "python",
   "name": "python3"
  },
  "language_info": {
   "codemirror_mode": {
    "name": "ipython",
    "version": 3
   },
   "file_extension": ".py",
   "mimetype": "text/x-python",
   "name": "python",
   "nbconvert_exporter": "python",
   "pygments_lexer": "ipython3",
   "version": "3.6.1"
  }
 },
 "nbformat": 4,
 "nbformat_minor": 2
}
