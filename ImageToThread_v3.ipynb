{
  "nbformat": 4,
  "nbformat_minor": 0,
  "metadata": {
    "colab": {
      "name": "ImageToThread_v3.ipynb",
      "version": "0.3.2",
      "provenance": [],
      "include_colab_link": true
    },
    "kernelspec": {
      "display_name": "Python 3",
      "language": "python",
      "name": "python3"
    }
  },
  "cells": [
    {
      "cell_type": "markdown",
      "metadata": {
        "id": "view-in-github",
        "colab_type": "text"
      },
      "source": [
        "<a href=\"https://colab.research.google.com/github/Harshal1618/ImageTothread/blob/master/ImageToThread_v3.ipynb\" target=\"_parent\"><img src=\"https://colab.research.google.com/assets/colab-badge.svg\" alt=\"Open In Colab\"/></a>"
      ]
    },
    {
      "metadata": {
        "id": "2HVuWM055Wtm",
        "colab_type": "code",
        "colab": {}
      },
      "cell_type": "code",
      "source": [
        "import numpy as np"
      ],
      "execution_count": 0,
      "outputs": []
    },
    {
      "metadata": {
        "id": "I7sfXr675Wtr",
        "colab_type": "code",
        "colab": {}
      },
      "cell_type": "code",
      "source": [
        "x1,y1 = 4,0\n",
        "x2,y2 = 0,3\n",
        "\n",
        "m = (y1-y2) / (x1-x2)\n",
        "b = y1 - m*x1\n",
        "\n",
        "start_x = x1 + 1 if x2 > x1 else x1 -1 \n",
        "b_x_dir_pos = x2 > x1\n",
        "b_y_dir_pos = y2 > y1"
      ],
      "execution_count": 0,
      "outputs": []
    },
    {
      "metadata": {
        "id": "Ea28_8WC5Wtv",
        "colab_type": "code",
        "colab": {},
        "outputId": "56570b61-e7ef-402f-db43-5e3c7f88db83"
      },
      "cell_type": "code",
      "source": [
        "arr_x_steps = np.linspace(start_x,x2,np.abs(x1-x2), dtype = int)\n",
        "arr_x_steps"
      ],
      "execution_count": 0,
      "outputs": [
        {
          "output_type": "execute_result",
          "data": {
            "text/plain": [
              "array([3, 2, 1, 0])"
            ]
          },
          "metadata": {
            "tags": []
          },
          "execution_count": 52
        }
      ]
    },
    {
      "metadata": {
        "id": "3dIzAQHu5Wtz",
        "colab_type": "code",
        "colab": {},
        "outputId": "3d4ba96c-ad6b-45e8-cbaa-db90306b94a3"
      },
      "cell_type": "code",
      "source": [
        "current_x =  x1 if x2 > x1 else x1 -1\n",
        "current_y =  y1\n",
        "l = []\n",
        "\n",
        "for i in arr_x_steps:\n",
        "    y = np.round(m*i+b,2)\n",
        "    \n",
        "    arr_y_steps = np.linspace(current_y, np.floor(y), np.abs(np.floor(y) - current_y)+1, dtype = np.int)\n",
        "    current_y = int(np.floor(y)) if y%1 != 0.0 else int(y)\n",
        "    \n",
        "    print('x = {} y = {} y_steps = {}'.format(i, y , arr_y_steps))\n",
        "    \n",
        "    for j in arr_y_steps:\n",
        "        l.append((i -1 if b_x_dir_pos else i,j))\n",
        "    \n",
        "\n",
        "    "
      ],
      "execution_count": 0,
      "outputs": [
        {
          "output_type": "stream",
          "text": [
            "x = 3 y = 0.75 y_steps = [0]\n",
            "x = 2 y = 1.5 y_steps = [0 1]\n",
            "x = 1 y = 2.25 y_steps = [1 2]\n",
            "x = 0 y = 3.0 y_steps = [2 3]\n"
          ],
          "name": "stdout"
        },
        {
          "output_type": "stream",
          "text": [
            "C:\\Anaconda\\lib\\site-packages\\ipykernel_launcher.py:7: DeprecationWarning: object of type <class 'numpy.float64'> cannot be safely interpreted as an integer.\n",
            "  import sys\n"
          ],
          "name": "stderr"
        }
      ]
    },
    {
      "metadata": {
        "id": "ixMAgvZN5Wt2",
        "colab_type": "code",
        "colab": {},
        "outputId": "ebd600ae-c6e2-493c-d254-f30da7b75995"
      },
      "cell_type": "code",
      "source": [
        "l"
      ],
      "execution_count": 0,
      "outputs": [
        {
          "output_type": "execute_result",
          "data": {
            "text/plain": [
              "[(3, 0), (2, 0), (2, 1), (1, 1), (1, 2), (0, 2), (0, 3)]"
            ]
          },
          "metadata": {
            "tags": []
          },
          "execution_count": 54
        }
      ]
    },
    {
      "metadata": {
        "id": "eE8w9zGt5Wt7",
        "colab_type": "code",
        "colab": {}
      },
      "cell_type": "code",
      "source": [
        ""
      ],
      "execution_count": 0,
      "outputs": []
    }
  ]
}