{
  "nbformat": 4,
  "nbformat_minor": 0,
  "metadata": {
    "colab": {
      "name": "ImageToThread_v3.ipynb",
      "version": "0.3.2",
      "provenance": [],
      "include_colab_link": true
    },
    "kernelspec": {
      "display_name": "Python 3",
      "language": "python",
      "name": "python3"
    }
  },
  "cells": [
    {
      "cell_type": "markdown",
      "metadata": {
        "id": "view-in-github",
        "colab_type": "text"
      },
      "source": [
        "<a href=\"https://colab.research.google.com/github/Harshal1618/ImageTothread/blob/master/ImageToThread_v10.ipynb\" target=\"_parent\"><img src=\"https://colab.research.google.com/assets/colab-badge.svg\" alt=\"Open In Colab\"/></a>"
      ]
    },
    {
      "metadata": {
        "id": "2HVuWM055Wtm",
        "colab_type": "code",
        "colab": {}
      },
      "cell_type": "code",
      "source": [
        "import numpy as np"
      ],
      "execution_count": 0,
      "outputs": []
    },
    {
      "metadata": {
        "id": "rJwVG7IzOsQx",
        "colab_type": "code",
        "colab": {}
      },
      "cell_type": "code",
      "source": [
        "import itertools as it"
      ],
      "execution_count": 0,
      "outputs": []
    },
    {
      "metadata": {
        "id": "c0-HBboQIWMN",
        "colab_type": "code",
        "colab": {}
      },
      "cell_type": "code",
      "source": [
        "def calc_dist(m,b,grid_square):\n",
        "  l_points = []\n",
        "\n",
        "  x0 = grid_square[0]\n",
        "  y0 = grid_square[1]\n",
        "\n",
        "  y_at_x0 = m* x0 +b\n",
        "  if y_at_x0 >= y0 and y_at_x0 <= y0 + 1:\n",
        "    l_points.append((x0, y_at_x0))\n",
        "\n",
        "  y_at_x1 = m*(x0 + 1) +b\n",
        "  if y_at_x1 >= y0 and y_at_x1 <= y0 + 1:\n",
        "    l_points.append((x0+1, y_at_x1))\n",
        "\n",
        "  x_at_y0 = (y0 - b) / m\n",
        "  if x_at_y0 >= x0 and x_at_y0 <= x0 + 1:\n",
        "    l_points.append((x_at_y0,y0))\n",
        "\n",
        "  x_at_y1 = ((y0 + 1) - b) / m\n",
        "  if x_at_y1 >= x0 and x_at_y1 <= x0 + 1:\n",
        "    l_points.append((x_at_y1,y0 + 1))\n",
        "\n",
        "  #print(' y_at_x0={:0.2f} \\n y_at_x1={:0.2f} \\\n",
        "  #      \\n x_at_y0={:0.2f} \\n x_at_y1={:0.2f}'.format(y_at_x0,y_at_x1,\n",
        "  #                                                    x_at_y0,x_at_y1))\n",
        "\n",
        "  l_points = list(set(l_points))\n",
        "\n",
        "  dist = 0\n",
        "  if len(l_points) > 2 :\n",
        "    print ('ERROR: More than 2 intersection points computed in square grid {}'.format(grid_square))\n",
        "  elif len(l_points) == 2:\n",
        "    dist = np.sqrt((l_points[0][0] - l_points[1][0])** 2 + (l_points[0][1] - l_points[1][1])** 2)\n",
        "\n",
        "  #print('List of intersection:{} Distance:{}'.format(l_points,dist))\n",
        "  return dist"
      ],
      "execution_count": 0,
      "outputs": []
    },
    {
      "metadata": {
        "id": "eRJ7QbEeJTsA",
        "colab_type": "code",
        "colab": {}
      },
      "cell_type": "code",
      "source": [
        "def find_grids(L, H, points):\n",
        "  x_min = min(points[0][0] , points[1][0])\n",
        "  x_max = max(points[0][0] , points[1][0])\n",
        "  y_min = min(points[0][1] , points[1][1])\n",
        "  y_max = max(points[0][1] , points[1][1])\n",
        "\n",
        "  l_squares = []\n",
        "\n",
        "\n",
        "  if points[0][0] == points[1][0] and x_min < L -1:\n",
        "    arr_squares = np.linspace(y_min,y_max -1,y_max- y_min, dtype = int)\n",
        "    l_squares = [(x_min,i) for i in arr_squares]\n",
        "\n",
        "  elif points[0][1] == points[1][1] and y_min < H - 1:\n",
        "    arr_squares = np.linspace(x_min,x_max -1,x_max- x_min, dtype = int)\n",
        "    l_squares = [(i,y_min) for i in arr_squares]\n",
        "\n",
        "  elif x_min >= 0 and y_min >= 0 and x_max < L and y_max < H:\n",
        "    arr_x = np.linspace (x_min, x_max -1, x_max - x_min, dtype = int)\n",
        "    arr_y = np.linspace (y_min, y_max -1, y_max - y_min, dtype = int)\n",
        "\n",
        "    l_squares = [(i,j) for i in arr_x for j in arr_y]\n",
        "\n",
        "\n",
        "  return l_squares"
      ],
      "execution_count": 0,
      "outputs": []
    },
    {
      "metadata": {
        "id": "RY4QqpkhO_Pf",
        "colab_type": "code",
        "outputId": "2d20b9d6-db3f-4fa6-80a8-54701cd029f5",
        "colab": {
          "base_uri": "https://localhost:8080/",
          "height": 119
        }
      },
      "cell_type": "code",
      "source": [
        "L , H = 13, 13  # 12 pegs for height and length\n",
        "points = ((4,12),(0,9))\n",
        "\n",
        "l_squares = find_grids(L,H,points)\n",
        "\n",
        "\n",
        "x1,y1 = points[0][0], points[0][1]\n",
        "x2,y2 = points[1][0], points[1][1]\n",
        "  \n",
        "m = (y1-y2) / (x1-x2)  ## Add special case where x1-x2 = 0\n",
        "b = y1 - m*x1\n",
        "\n",
        "[ (i,calc_dist(m,b,i)) for i in l_squares if calc_dist(m,b,i) > 0]"
      ],
      "execution_count": 5,
      "outputs": [
        {
          "output_type": "execute_result",
          "data": {
            "text/plain": [
              "[((0, 9), 1.25),\n",
              " ((1, 9), 0.4166666666666666),\n",
              " ((1, 10), 0.8333333333333334),\n",
              " ((2, 10), 0.8333333333333331),\n",
              " ((2, 11), 0.4166666666666668),\n",
              " ((3, 11), 1.25)]"
            ]
          },
          "metadata": {
            "tags": []
          },
          "execution_count": 5
        }
      ]
    },
    {
      "metadata": {
        "id": "GL7DFXtBWqvP",
        "colab_type": "code",
        "colab": {}
      },
      "cell_type": "code",
      "source": [
        ""
      ],
      "execution_count": 0,
      "outputs": []
    }
  ]
}