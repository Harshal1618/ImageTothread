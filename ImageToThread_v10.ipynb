{
  "nbformat": 4,
  "nbformat_minor": 0,
  "metadata": {
    "colab": {
      "name": "ImageToThread_v3.ipynb",
      "version": "0.3.2",
      "provenance": [],
      "include_colab_link": true
    },
    "kernelspec": {
      "display_name": "Python 3",
      "language": "python",
      "name": "python3"
    }
  },
  "cells": [
    {
      "cell_type": "markdown",
      "metadata": {
        "id": "view-in-github",
        "colab_type": "text"
      },
      "source": [
        "<a href=\"https://colab.research.google.com/github/Harshal1618/ImageTothread/blob/master/ImageToThread_v10.ipynb\" target=\"_parent\"><img src=\"https://colab.research.google.com/assets/colab-badge.svg\" alt=\"Open In Colab\"/></a>"
      ]
    },
    {
      "metadata": {
        "id": "2HVuWM055Wtm",
        "colab_type": "code",
        "colab": {}
      },
      "cell_type": "code",
      "source": [
        "import numpy as np\n",
        "import pandas as pd"
      ],
      "execution_count": 0,
      "outputs": []
    },
    {
      "metadata": {
        "id": "rJwVG7IzOsQx",
        "colab_type": "code",
        "colab": {}
      },
      "cell_type": "code",
      "source": [
        "import itertools as it"
      ],
      "execution_count": 0,
      "outputs": []
    },
    {
      "metadata": {
        "id": "c0-HBboQIWMN",
        "colab_type": "code",
        "colab": {}
      },
      "cell_type": "code",
      "source": [
        "def calc_dist(m,b,grid_square):\n",
        "  l_points = []\n",
        "\n",
        "  x0 = grid_square[0]\n",
        "  y0 = grid_square[1]\n",
        "\n",
        "  y_at_x0 = m* x0 +b\n",
        "  if y_at_x0 >= y0 and y_at_x0 <= y0 + 1:\n",
        "    l_points.append((x0, y_at_x0))\n",
        "\n",
        "  y_at_x1 = m*(x0 + 1) +b\n",
        "  if y_at_x1 >= y0 and y_at_x1 <= y0 + 1:\n",
        "    l_points.append((x0+1, y_at_x1))\n",
        "\n",
        "  x_at_y0 = (y0 - b) / m\n",
        "  if x_at_y0 >= x0 and x_at_y0 <= x0 + 1:\n",
        "    l_points.append((x_at_y0,y0))\n",
        "\n",
        "  x_at_y1 = ((y0 + 1) - b) / m\n",
        "  if x_at_y1 >= x0 and x_at_y1 <= x0 + 1:\n",
        "    l_points.append((x_at_y1,y0 + 1))\n",
        "\n",
        "  #print(' y_at_x0={:0.2f} \\n y_at_x1={:0.2f} \\\n",
        "  #      \\n x_at_y0={:0.2f} \\n x_at_y1={:0.2f}'.format(y_at_x0,y_at_x1,\n",
        "  #                                                    x_at_y0,x_at_y1))\n",
        "\n",
        "  l_points = list(set(l_points))\n",
        "\n",
        "  dist = 0\n",
        "  if len(l_points) > 2 :\n",
        "    print ('ERROR: More than 2 intersection points computed in square grid {}'.format(grid_square))\n",
        "  elif len(l_points) == 2:\n",
        "    dist = np.sqrt((l_points[0][0] - l_points[1][0])** 2 + (l_points[0][1] - l_points[1][1])** 2)\n",
        "\n",
        "  #print('List of intersection:{} Distance:{}'.format(l_points,dist))\n",
        "  return dist"
      ],
      "execution_count": 0,
      "outputs": []
    },
    {
      "metadata": {
        "id": "GL7DFXtBWqvP",
        "colab_type": "code",
        "colab": {}
      },
      "cell_type": "code",
      "source": [
        "def all_lines(L,H):\n",
        "  h1  = [(0,i) for i in range(0,H)]\n",
        "  l1  = [(i,0) for i in range(0,L)]\n",
        "  h2  = [(H-1,i) for i in range(0,H)]\n",
        "  l2  = [(i,L-1) for i in range(0,L)]\n",
        "\n",
        "  l_combi = [ i for i in it.product(h1,l1+h2+l2) ]\n",
        "  l_combi = l_combi + [ i for i in it.product(l1,h2+l2) ]\n",
        "  l_combi = l_combi + [ i for i in it.product(h2,l2) ]\n",
        "\n",
        "  l_combi = list((set(l_combi)))\n",
        "\n",
        "  l_combi = [e for e in l_combi if e[0] != e[1]]\n",
        "  \n",
        "  l_combi.sort(key= lambda x : x[0])\n",
        "  \n",
        "  return l_combi"
      ],
      "execution_count": 0,
      "outputs": []
    },
    {
      "metadata": {
        "id": "eRJ7QbEeJTsA",
        "colab_type": "code",
        "colab": {}
      },
      "cell_type": "code",
      "source": [
        "def find_grids(L, H, points):\n",
        "  x_min = min(points[0][0] , points[1][0])\n",
        "  x_max = max(points[0][0] , points[1][0])\n",
        "  y_min = min(points[0][1] , points[1][1])\n",
        "  y_max = max(points[0][1] , points[1][1])\n",
        "\n",
        "  l_squares = []\n",
        "\n",
        "\n",
        "  if points[0][0] == points[1][0] and x_min < L -1:\n",
        "    arr_squares = np.linspace(y_min,y_max -1,y_max- y_min, dtype = int)\n",
        "    l_squares = [(x_min,i) for i in arr_squares]\n",
        "\n",
        "  elif points[0][1] == points[1][1] and y_min < H - 1:\n",
        "    arr_squares = np.linspace(x_min,x_max -1,x_max- x_min, dtype = int)\n",
        "    l_squares = [(i,y_min) for i in arr_squares]\n",
        "\n",
        "  elif x_min >= 0 and y_min >= 0 and x_max < L and y_max < H:\n",
        "    arr_x = np.linspace (x_min, x_max -1, x_max - x_min, dtype = int)\n",
        "    arr_y = np.linspace (y_min, y_max -1, y_max - y_min, dtype = int)\n",
        "\n",
        "    l_squares = [(i,j) for i in arr_x for j in arr_y]\n",
        "\n",
        "\n",
        "  return l_squares"
      ],
      "execution_count": 0,
      "outputs": []
    },
    {
      "metadata": {
        "id": "RY4QqpkhO_Pf",
        "colab_type": "code",
        "colab": {}
      },
      "cell_type": "code",
      "source": [
        "L , H = 4, 4  # 12 pegs for height and length squares from (0,0) to (12,12)\n",
        "\n",
        "\n",
        "l_lines = all_lines(L,H) \n",
        "l_squares = find_grids(L,H,l_lines[2])\n",
        "\n",
        "\n",
        "\n",
        "\n",
        "#x1,y1 = points[0][0], points[0][1]\n",
        "#x2,y2 = points[1][0], points[1][1]\n",
        "  \n",
        "#m = (y1-y2) / (x1-x2)  ## Add special case where x1-x2 = 0\n",
        "#b = y1 - m*x1\n",
        "\n",
        "#[ (i,calc_dist(m,b,i)) for i in l_squares if calc_dist(m,b,i) > 0]"
      ],
      "execution_count": 0,
      "outputs": []
    },
    {
      "metadata": {
        "id": "nYIkeS2gd-PJ",
        "colab_type": "code",
        "colab": {}
      },
      "cell_type": "code",
      "source": [
        "l = all_lines(4,4)\n",
        "l.sort(key= lambda x : x[0])"
      ],
      "execution_count": 0,
      "outputs": []
    },
    {
      "metadata": {
        "id": "UTXIKeSVh_VC",
        "colab_type": "code",
        "colab": {
          "base_uri": "https://localhost:8080/",
          "height": 34
        },
        "outputId": "a22b26fc-04d8-47e6-c7ec-1c3aa4fa2251"
      },
      "cell_type": "code",
      "source": [
        "l_lines[2]"
      ],
      "execution_count": 22,
      "outputs": [
        {
          "output_type": "execute_result",
          "data": {
            "text/plain": [
              "((0, 0), (3, 0))"
            ]
          },
          "metadata": {
            "tags": []
          },
          "execution_count": 22
        }
      ]
    },
    {
      "metadata": {
        "id": "XreNMO8LeHLL",
        "colab_type": "code",
        "colab": {
          "base_uri": "https://localhost:8080/",
          "height": 34
        },
        "outputId": "abbcb0f1-7074-46a9-91e7-fa2a559a4190"
      },
      "cell_type": "code",
      "source": [
        "l_squares"
      ],
      "execution_count": 21,
      "outputs": [
        {
          "output_type": "execute_result",
          "data": {
            "text/plain": [
              "[(0, 0), (1, 0), (2, 0)]"
            ]
          },
          "metadata": {
            "tags": []
          },
          "execution_count": 21
        }
      ]
    },
    {
      "metadata": {
        "id": "Uf3SwZymfKne",
        "colab_type": "code",
        "colab": {
          "base_uri": "https://localhost:8080/",
          "height": 34
        },
        "outputId": "943b0117-288f-4bfe-afcd-0aa6f41ba8c6"
      },
      "cell_type": "code",
      "source": [
        "line = ((1,2),(2,3))\n",
        "square1 = (1,2)\n",
        "square2 = (3,4)\n",
        "d = dict([((line,square1),[2]),((line,square2),[3])])\n",
        "d"
      ],
      "execution_count": 50,
      "outputs": [
        {
          "output_type": "execute_result",
          "data": {
            "text/plain": [
              "{(((1, 2), (2, 3)), (1, 2)): [2], (((1, 2), (2, 3)), (3, 4)): [3]}"
            ]
          },
          "metadata": {
            "tags": []
          },
          "execution_count": 50
        }
      ]
    },
    {
      "metadata": {
        "id": "y_CJ1KJCi20o",
        "colab_type": "code",
        "colab": {
          "base_uri": "https://localhost:8080/",
          "height": 111
        },
        "outputId": "ba8b70c2-b687-4b04-b4b4-3a9716976be4"
      },
      "cell_type": "code",
      "source": [
        "pd.DataFrame(d).T"
      ],
      "execution_count": 51,
      "outputs": [
        {
          "output_type": "execute_result",
          "data": {
            "text/html": [
              "<div>\n",
              "<style scoped>\n",
              "    .dataframe tbody tr th:only-of-type {\n",
              "        vertical-align: middle;\n",
              "    }\n",
              "\n",
              "    .dataframe tbody tr th {\n",
              "        vertical-align: top;\n",
              "    }\n",
              "\n",
              "    .dataframe thead th {\n",
              "        text-align: right;\n",
              "    }\n",
              "</style>\n",
              "<table border=\"1\" class=\"dataframe\">\n",
              "  <thead>\n",
              "    <tr style=\"text-align: right;\">\n",
              "      <th></th>\n",
              "      <th></th>\n",
              "      <th>0</th>\n",
              "    </tr>\n",
              "  </thead>\n",
              "  <tbody>\n",
              "    <tr>\n",
              "      <th rowspan=\"2\" valign=\"top\">((1, 2), (2, 3))</th>\n",
              "      <th>(1, 2)</th>\n",
              "      <td>2</td>\n",
              "    </tr>\n",
              "    <tr>\n",
              "      <th>(3, 4)</th>\n",
              "      <td>3</td>\n",
              "    </tr>\n",
              "  </tbody>\n",
              "</table>\n",
              "</div>"
            ],
            "text/plain": [
              "                         0\n",
              "((1, 2), (2, 3)) (1, 2)  2\n",
              "                 (3, 4)  3"
            ]
          },
          "metadata": {
            "tags": []
          },
          "execution_count": 51
        }
      ]
    },
    {
      "metadata": {
        "id": "77RceOlXj_0H",
        "colab_type": "code",
        "colab": {}
      },
      "cell_type": "code",
      "source": [
        ""
      ],
      "execution_count": 0,
      "outputs": []
    }
  ]
}